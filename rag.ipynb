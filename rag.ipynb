{
 "cells": [
  {
   "cell_type": "code",
   "execution_count": 1,
   "metadata": {},
   "outputs": [
    {
     "name": "stderr",
     "output_type": "stream",
     "text": [
      "c:\\Users\\Me\\Desktop\\chat-with-audio\\venv\\lib\\site-packages\\tqdm\\auto.py:21: TqdmWarning: IProgress not found. Please update jupyter and ipywidgets. See https://ipywidgets.readthedocs.io/en/stable/user_install.html\n",
      "  from .autonotebook import tqdm as notebook_tqdm\n"
     ]
    }
   ],
   "source": [
    "from haystack.document_stores.in_memory import InMemoryDocumentStore\n",
    "from pathlib import Path\n",
    "from haystack import Document\n",
    "from haystack.components.embedders import SentenceTransformersDocumentEmbedder\n",
    "from haystack.components.embedders import SentenceTransformersTextEmbedder\n",
    "from haystack.components.retrievers.in_memory import InMemoryEmbeddingRetriever\n",
    "\n",
    "document_store = InMemoryDocumentStore()"
   ]
  },
  {
   "cell_type": "code",
   "execution_count": 2,
   "metadata": {},
   "outputs": [
    {
     "data": {
      "text/plain": [
       "[WindowsPath('data/large-data.txt')]"
      ]
     },
     "execution_count": 2,
     "metadata": {},
     "output_type": "execute_result"
    }
   ],
   "source": [
    "doc_files = list(Path(\"./data\").glob(\"**/*.txt\"))\n",
    "doc_files"
   ]
  },
  {
   "cell_type": "code",
   "execution_count": 3,
   "metadata": {},
   "outputs": [
    {
     "data": {
      "text/plain": [
       "\"In this video, I'm talking about how to get your first 100 customers for your SaaS product. I'm gonna be offering up actionable strategies and tactics on how you can get this done. I'm Rob Walling. I'm a startup founder with multiple exits, author of 3 books about building startups, and an investor in more than 100 companies. When most people think about building a product, they think about how can I build the product and then market it later? How can I build something and then go find people who have this need? And that's the opposite way to go about it. If I were launching a product today, I would say finding your first 100 customers starts way before you write that first line of code. The first thing you should do is look for advantages that you have, and you do this when you're choosing the idea, before you write a line of code, before you choose the idea, before you validate the idea. You think about, do I have an audience in any space that I could build a product for, or do I have a network in any space, a bunch of people who know me who I could call in to help do webinars, to co promote, to work that network to sell your product. Now if you don't have an audience in a particular space, I'm a believer that if you're building a SaaS product, you don't need an audience because there are a bunch of traffic channels we're gonna talk about later that work without an audience, and the process of building an audience is actually quite time consuming. If you're gonna sell info products, if you're gonna sell courses, sure, having an audience is the way to go because people buy info products and courses from people they know, like, and trust. However, building and selling a SaaS product, most people that I know who do it, they don't have an audience when they start. And in fact, they don't really build an audience as they're selling it. If you have an audience, great. If you don't, I would not invest the time to build an audience before launching a SaaS product. Now second, on the network, whether you have one or not, building a network that knows who you are and respects you as an entrepreneur, it's a big one. And that's something that I would start building. So whether you go to indiehackers.com, whether you go to microconfconnect, which is our Slack community, whether you go to the dynamite circle, there's so many online entrepreneur communities that I would be involved in if I didn't have any connections today and I wanted to start building a network of other like minded founders. So if you find you have one of those two advantages, I would consider building a product in a way that can serve those spaces. And if you don't, then this is where being a first time entrepreneur is challenging because you don't have a network and you don't have an audience and you just have to plunge in and start marketing before you start coding. That's the thing I want you to take away from this video is if you think that you're gonna go into a basement or you're gonna hire some developers, spend 6 to 12 months building out a product, and then go try to market it, you're thinking about it backwards because marketing and driving interest or having conversations with folks when you're looking at mock ups of a SaaS app, it helps you validate whether or not there is need for this product. So I'm a firm believer in having a landing page way before you start writing a line of code. I've done this with multiple SaaS apps. I've done this with a book. I've done this with a conference. I've done this with a startup accelerator. All were landing pages before we had anything to speak of. And what I was trying to do was to validate whether there was interest or whether there was a need. And the way that you do this is you set up this landing page where you're gonna capture emails and you're going to offer someone either updates on the launch or you offer them, you know, something to opt in. But you basically say this is what we're building. If you're interested in this and you're interested in the value that it provides in your email and we'll be in touch. And what this does is allows you to build that email launch list which not only provides some validation that people are interested in the value that you're talking about, but it allows you to do what's called customer development, which is to have conversations as you have an idea about where this product should go. You get a 100 people, 500 people on that list. You can email 50 of them, and you can say, this is what I'm thinking of building. These are the mock ups. Does this solve what the problem that I think it solves? Does this provide value for you? Would you pay $30, $50, $100 a month for this product? And it allows you to start getting that validation that maybe people are interested. To do this, you have to talk about your idea a lot, and you have to talk about your idea before it's done. So with the last SaaS app that I built, I got 11 people to tell me, yes, I would pay for this before we broke ground and wrote a line of code. Your mileage may vary on this, but I was talking about my idea in public before we had code written. My take on this is very few people, if any, are gonna steal your idea because ideas just they don't tend to be worth that much. It's so much more about execution. I would recommend going on social media, podcasts if you can, asking people for advice, and you're trying to get product direction, but you're also trying to build up that interest list so that the day you launch is an amazing day of revenue. That it's not that you launch and then you look for your first customer. It's that you launch to 10, 20, or 30 customers from day 1 because that provides that motivation and a little bit of revenue for you to keep going. So let's say you followed this advice and you do have early interested customers. You build the product. You get some people into early access, and and they're using it and you think it's time to launch this thing. So the first thing that I would do is launch to my email list, and that is where you give them a heads up 2 weeks in advance. You're kind of teasing the the product. You're saying, hey, these are the mock ups. This is what it looks like. These are some screenshots. Here's a little cool video of what this product does. And usually, you give some type of launch motivation, whether that's free onboarding, free migration from a prior tool. Maybe you give a discount, although that's not necessarily my favorite way of doing it, but you let your email list know that they are getting something exclusive for having been on the email list and followed your journey. And the idea is that that email launch list gets you your first 10, 20, 50 customers, and you work out the kinks. You fix the bugs that they encounter. Maybe you build a few features that people are requesting, but you're basically getting prepared to launch to the world. And this is what I call scratching and clawing. I think Paul Graham said it better when he said do things that don't scale because launching to the world is often a one time event, and there's a lot of things that you can do in the short term that will get you customers that get you to that first 100 customer mark that won't take you to 500 or a 1000 customers. So these are things like launching on Product Hunt, launching on Hacker News, doing a Reddit launch, going to q and a sites like Quora and Stack Exchange. I've seen an entrepreneur build a SaaS app to $35,000 a month. So that's 35 k of MRR almost solely using Quora and Stack Exchange. Maybe you do an AppSumo deal. Maybe you go on a podcast tour. These are all things that if you are good at them and you focus the time and you go out and learn how to do them. So product hunt launch for example, if you go to youtube.com/microconf, search for product hunt, you'll find that we have an entire 30 minute video on how to do a product hunt launch, and it is an interview and a talk from Derek Reimer who did this with SavvyCal, and he had great success launching on product hunt. And again, you're doing things that don't scale to get to that point of, at least I'm default to live. At least I have 5 ks or 10 ks a month in MRR because often that is a really difficult point to get to. It's the point that you get to where you can quit your day job. At this point, I wanna raise I think a common mistake that a lot of first time entrepreneurs make, and it's underpricing their product. And it's thinking that if I only charge $5 per customer, I'm gonna get a lot more customers. The problem is you get a 100 customers, $5 a month, you're only making $500 a month, and that's not enough to do much with. What if I charged $100 a month? What could I build that's worth $100 a month? Then by the time you get to that 100 customer mark, you have 10 ks in MRR, and that allows you to, in most places in the world, quit that day job. Your price point dictates a lot more than you realize early on in your product. And so if you have a $5 a month versus $500 a month, you can barely do anything. You can do some Quora and Reddit and some content and SEO, but you can't afford to do pay per click ads versus if you have a price point of a 100 or $500 a month, you can afford to do a whole swath of marketing approaches. If you followed the advice I've given you so far, you may already be at a 100 customers. But if you're not, then you have to start thinking about how do I build a marketing flywheel? How do I find usually one marketing approach that can get me to that 100 customer mark? And usually this is done through experimentation. You look at the most common b to b SaaS marketing approaches, and you pick which one you think is most likely to work, and then you dive into it for a few months. And you you give your give it your all, and whether that marketing approach, these are what I call the pillar b to b SaaS marketing approaches, you pick one of these. Usually, it's SEO or content or cold outreach, partnerships, integrations or pay per click ads. And those are the most common ones that I see people building into flywheels. Through all this, keep in mind there's a lot of experimentation and a lot of maybe going with your founder gut to get to the point where you have a 100 customers. It's harder than a lot of people make it out to be online. And in fact, aside from building something people want and driving traffic to it and putting in all the hard work, there's one more thing that you're gonna need to retain customers. I'll get to that in a minute. But if you've enjoyed this video, if you've gotten value out of it, I'd love it if you'd hit that like button and subscribe to our channel. We have tons of videos like this coming out, whether it's pointed tactical advice like this video, live streams, conference talks. We are putting out several videos per month all about the topic of building and growing successful SaaS products. In terms of the one more thing you'll need to retain customers, I wanna say that finding a 100 customers is hard. Retaining them is a real challenge. Because if you drive 10 new customers a month but you churn 10 customers a month, you'll be flat. It doesn't matter if you find a 100 customers if you cannot retain them because building a product that people want and are willing to pay for month after month is much harder than you think. And while marketing is a challenge, just getting to that point where you have a product that people don't churn out of can take 6 months, 12 months, 18 months. So there's no formula. There's no direct map to getting from 0 to a 100 customers and retaining them. But hopefully, the ideas, strategies, and tactics that I presented in this video will help get you there.\""
      ]
     },
     "execution_count": 3,
     "metadata": {},
     "output_type": "execute_result"
    }
   ],
   "source": [
    "doc_content = doc_files[0].read_text()\n",
    "doc_content"
   ]
  },
  {
   "cell_type": "code",
   "execution_count": 4,
   "metadata": {},
   "outputs": [
    {
     "data": {
      "text/plain": [
       "[Document(id=c187895e69579e138b55b8908125b9274ba068fab93b8b189ae6a37e4418ea62, content: 'In this video, I'm talking about how to get your first 100 customers for your SaaS product. I'm gonn...')]"
      ]
     },
     "execution_count": 4,
     "metadata": {},
     "output_type": "execute_result"
    }
   ],
   "source": [
    "docs = [Document(content=file.read_text()) for file in doc_files]\n",
    "docs"
   ]
  },
  {
   "cell_type": "code",
   "execution_count": 5,
   "metadata": {},
   "outputs": [
    {
     "name": "stderr",
     "output_type": "stream",
     "text": [
      "c:\\Users\\Me\\Desktop\\chat-with-audio\\venv\\lib\\site-packages\\transformers\\tokenization_utils_base.py:1601: FutureWarning: `clean_up_tokenization_spaces` was not set. It will be set to `True` by default. This behavior will be depracted in transformers v4.45, and will be then set to `False` by default. For more details check this issue: https://github.com/huggingface/transformers/issues/31884\n",
      "  warnings.warn(\n"
     ]
    }
   ],
   "source": [
    "doc_embedder = SentenceTransformersDocumentEmbedder(\n",
    "    model=\"sentence-transformers/all-MiniLM-L6-v2\"\n",
    ")\n",
    "doc_embedder.warm_up()"
   ]
  },
  {
   "cell_type": "code",
   "execution_count": 6,
   "metadata": {},
   "outputs": [
    {
     "name": "stderr",
     "output_type": "stream",
     "text": [
      "Batches: 100%|██████████| 1/1 [00:00<00:00,  2.81it/s]\n"
     ]
    },
    {
     "data": {
      "text/plain": [
       "1"
      ]
     },
     "execution_count": 6,
     "metadata": {},
     "output_type": "execute_result"
    }
   ],
   "source": [
    "docs_with_embeddings = doc_embedder.run(docs)\n",
    "document_store.write_documents(docs_with_embeddings[\"documents\"])"
   ]
  },
  {
   "cell_type": "code",
   "execution_count": 7,
   "metadata": {},
   "outputs": [
    {
     "data": {
      "text/plain": [
       "<haystack.document_stores.in_memory.document_store.InMemoryDocumentStore at 0x1ed2ad1f2b0>"
      ]
     },
     "execution_count": 7,
     "metadata": {},
     "output_type": "execute_result"
    }
   ],
   "source": [
    "document_store"
   ]
  },
  {
   "cell_type": "code",
   "execution_count": 8,
   "metadata": {},
   "outputs": [],
   "source": [
    "from haystack.components.builders import PromptBuilder\n",
    "\n",
    "text_embedder = SentenceTransformersTextEmbedder(\n",
    "    model=\"sentence-transformers/all-MiniLM-L6-v2\"\n",
    ")\n",
    "retriever = InMemoryEmbeddingRetriever(document_store)\n",
    "\n",
    "template = \"\"\"\n",
    "Given the following information, answer the question. Use the information from the documents to support your answer. Do not use any external information or make up any information. If you don't know the answer, write \"I don't know\".\n",
    "\n",
    "Context:\n",
    "{% for document in documents %}\n",
    "    {{ document.content }}\n",
    "{% endfor %}\n",
    "\n",
    "Question: {{question}}\n",
    "Answer:\n",
    "\"\"\"\n",
    "\n",
    "prompt_builder = PromptBuilder(template=template)"
   ]
  },
  {
   "cell_type": "code",
   "execution_count": 9,
   "metadata": {},
   "outputs": [
    {
     "data": {
      "text/plain": [
       "{'prompt': '\\nGiven the following information, answer the question. Use the information from the documents to support your answer. Do not use any external information or make up any information. If you don\\'t know the answer, write \"I don\\'t know\".\\n\\nContext:\\n\\n    In this video, I\\'m talking about how to get your first 100 customers for your SaaS product. I\\'m gonna be offering up actionable strategies and tactics on how you can get this done. I\\'m Rob Walling. I\\'m a startup founder with multiple exits, author of 3 books about building startups, and an investor in more than 100 companies. When most people think about building a product, they think about how can I build the product and then market it later? How can I build something and then go find people who have this need? And that\\'s the opposite way to go about it. If I were launching a product today, I would say finding your first 100 customers starts way before you write that first line of code. The first thing you should do is look for advantages that you have, and you do this when you\\'re choosing the idea, before you write a line of code, before you choose the idea, before you validate the idea. You think about, do I have an audience in any space that I could build a product for, or do I have a network in any space, a bunch of people who know me who I could call in to help do webinars, to co promote, to work that network to sell your product. Now if you don\\'t have an audience in a particular space, I\\'m a believer that if you\\'re building a SaaS product, you don\\'t need an audience because there are a bunch of traffic channels we\\'re gonna talk about later that work without an audience, and the process of building an audience is actually quite time consuming. If you\\'re gonna sell info products, if you\\'re gonna sell courses, sure, having an audience is the way to go because people buy info products and courses from people they know, like, and trust. However, building and selling a SaaS product, most people that I know who do it, they don\\'t have an audience when they start. And in fact, they don\\'t really build an audience as they\\'re selling it. If you have an audience, great. If you don\\'t, I would not invest the time to build an audience before launching a SaaS product. Now second, on the network, whether you have one or not, building a network that knows who you are and respects you as an entrepreneur, it\\'s a big one. And that\\'s something that I would start building. So whether you go to indiehackers.com, whether you go to microconfconnect, which is our Slack community, whether you go to the dynamite circle, there\\'s so many online entrepreneur communities that I would be involved in if I didn\\'t have any connections today and I wanted to start building a network of other like minded founders. So if you find you have one of those two advantages, I would consider building a product in a way that can serve those spaces. And if you don\\'t, then this is where being a first time entrepreneur is challenging because you don\\'t have a network and you don\\'t have an audience and you just have to plunge in and start marketing before you start coding. That\\'s the thing I want you to take away from this video is if you think that you\\'re gonna go into a basement or you\\'re gonna hire some developers, spend 6 to 12 months building out a product, and then go try to market it, you\\'re thinking about it backwards because marketing and driving interest or having conversations with folks when you\\'re looking at mock ups of a SaaS app, it helps you validate whether or not there is need for this product. So I\\'m a firm believer in having a landing page way before you start writing a line of code. I\\'ve done this with multiple SaaS apps. I\\'ve done this with a book. I\\'ve done this with a conference. I\\'ve done this with a startup accelerator. All were landing pages before we had anything to speak of. And what I was trying to do was to validate whether there was interest or whether there was a need. And the way that you do this is you set up this landing page where you\\'re gonna capture emails and you\\'re going to offer someone either updates on the launch or you offer them, you know, something to opt in. But you basically say this is what we\\'re building. If you\\'re interested in this and you\\'re interested in the value that it provides in your email and we\\'ll be in touch. And what this does is allows you to build that email launch list which not only provides some validation that people are interested in the value that you\\'re talking about, but it allows you to do what\\'s called customer development, which is to have conversations as you have an idea about where this product should go. You get a 100 people, 500 people on that list. You can email 50 of them, and you can say, this is what I\\'m thinking of building. These are the mock ups. Does this solve what the problem that I think it solves? Does this provide value for you? Would you pay $30, $50, $100 a month for this product? And it allows you to start getting that validation that maybe people are interested. To do this, you have to talk about your idea a lot, and you have to talk about your idea before it\\'s done. So with the last SaaS app that I built, I got 11 people to tell me, yes, I would pay for this before we broke ground and wrote a line of code. Your mileage may vary on this, but I was talking about my idea in public before we had code written. My take on this is very few people, if any, are gonna steal your idea because ideas just they don\\'t tend to be worth that much. It\\'s so much more about execution. I would recommend going on social media, podcasts if you can, asking people for advice, and you\\'re trying to get product direction, but you\\'re also trying to build up that interest list so that the day you launch is an amazing day of revenue. That it\\'s not that you launch and then you look for your first customer. It\\'s that you launch to 10, 20, or 30 customers from day 1 because that provides that motivation and a little bit of revenue for you to keep going. So let\\'s say you followed this advice and you do have early interested customers. You build the product. You get some people into early access, and and they\\'re using it and you think it\\'s time to launch this thing. So the first thing that I would do is launch to my email list, and that is where you give them a heads up 2 weeks in advance. You\\'re kind of teasing the the product. You\\'re saying, hey, these are the mock ups. This is what it looks like. These are some screenshots. Here\\'s a little cool video of what this product does. And usually, you give some type of launch motivation, whether that\\'s free onboarding, free migration from a prior tool. Maybe you give a discount, although that\\'s not necessarily my favorite way of doing it, but you let your email list know that they are getting something exclusive for having been on the email list and followed your journey. And the idea is that that email launch list gets you your first 10, 20, 50 customers, and you work out the kinks. You fix the bugs that they encounter. Maybe you build a few features that people are requesting, but you\\'re basically getting prepared to launch to the world. And this is what I call scratching and clawing. I think Paul Graham said it better when he said do things that don\\'t scale because launching to the world is often a one time event, and there\\'s a lot of things that you can do in the short term that will get you customers that get you to that first 100 customer mark that won\\'t take you to 500 or a 1000 customers. So these are things like launching on Product Hunt, launching on Hacker News, doing a Reddit launch, going to q and a sites like Quora and Stack Exchange. I\\'ve seen an entrepreneur build a SaaS app to $35,000 a month. So that\\'s 35 k of MRR almost solely using Quora and Stack Exchange. Maybe you do an AppSumo deal. Maybe you go on a podcast tour. These are all things that if you are good at them and you focus the time and you go out and learn how to do them. So product hunt launch for example, if you go to youtube.com/microconf, search for product hunt, you\\'ll find that we have an entire 30 minute video on how to do a product hunt launch, and it is an interview and a talk from Derek Reimer who did this with SavvyCal, and he had great success launching on product hunt. And again, you\\'re doing things that don\\'t scale to get to that point of, at least I\\'m default to live. At least I have 5 ks or 10 ks a month in MRR because often that is a really difficult point to get to. It\\'s the point that you get to where you can quit your day job. At this point, I wanna raise I think a common mistake that a lot of first time entrepreneurs make, and it\\'s underpricing their product. And it\\'s thinking that if I only charge $5 per customer, I\\'m gonna get a lot more customers. The problem is you get a 100 customers, $5 a month, you\\'re only making $500 a month, and that\\'s not enough to do much with. What if I charged $100 a month? What could I build that\\'s worth $100 a month? Then by the time you get to that 100 customer mark, you have 10 ks in MRR, and that allows you to, in most places in the world, quit that day job. Your price point dictates a lot more than you realize early on in your product. And so if you have a $5 a month versus $500 a month, you can barely do anything. You can do some Quora and Reddit and some content and SEO, but you can\\'t afford to do pay per click ads versus if you have a price point of a 100 or $500 a month, you can afford to do a whole swath of marketing approaches. If you followed the advice I\\'ve given you so far, you may already be at a 100 customers. But if you\\'re not, then you have to start thinking about how do I build a marketing flywheel? How do I find usually one marketing approach that can get me to that 100 customer mark? And usually this is done through experimentation. You look at the most common b to b SaaS marketing approaches, and you pick which one you think is most likely to work, and then you dive into it for a few months. And you you give your give it your all, and whether that marketing approach, these are what I call the pillar b to b SaaS marketing approaches, you pick one of these. Usually, it\\'s SEO or content or cold outreach, partnerships, integrations or pay per click ads. And those are the most common ones that I see people building into flywheels. Through all this, keep in mind there\\'s a lot of experimentation and a lot of maybe going with your founder gut to get to the point where you have a 100 customers. It\\'s harder than a lot of people make it out to be online. And in fact, aside from building something people want and driving traffic to it and putting in all the hard work, there\\'s one more thing that you\\'re gonna need to retain customers. I\\'ll get to that in a minute. But if you\\'ve enjoyed this video, if you\\'ve gotten value out of it, I\\'d love it if you\\'d hit that like button and subscribe to our channel. We have tons of videos like this coming out, whether it\\'s pointed tactical advice like this video, live streams, conference talks. We are putting out several videos per month all about the topic of building and growing successful SaaS products. In terms of the one more thing you\\'ll need to retain customers, I wanna say that finding a 100 customers is hard. Retaining them is a real challenge. Because if you drive 10 new customers a month but you churn 10 customers a month, you\\'ll be flat. It doesn\\'t matter if you find a 100 customers if you cannot retain them because building a product that people want and are willing to pay for month after month is much harder than you think. And while marketing is a challenge, just getting to that point where you have a product that people don\\'t churn out of can take 6 months, 12 months, 18 months. So there\\'s no formula. There\\'s no direct map to getting from 0 to a 100 customers and retaining them. But hopefully, the ideas, strategies, and tactics that I presented in this video will help get you there.\\n\\n\\nQuestion: How to get my first saas customers?\\nAnswer:'}"
      ]
     },
     "execution_count": 9,
     "metadata": {},
     "output_type": "execute_result"
    }
   ],
   "source": [
    "prompt_builder.run(documents=docs, question=\"How to get my first saas customers?\")"
   ]
  },
  {
   "cell_type": "code",
   "execution_count": 10,
   "metadata": {},
   "outputs": [],
   "source": [
    "import os\n",
    "from getpass import getpass\n",
    "from haystack.components.generators import OpenAIGenerator\n",
    "\n",
    "generator = OpenAIGenerator(model=\"gpt-4o-mini\")"
   ]
  },
  {
   "cell_type": "code",
   "execution_count": 11,
   "metadata": {},
   "outputs": [
    {
     "data": {
      "text/plain": [
       "<haystack.core.pipeline.pipeline.Pipeline object at 0x000001ED5F151EE0>\n",
       "🚅 Components\n",
       "  - text_embedder: SentenceTransformersTextEmbedder\n",
       "  - retriever: InMemoryEmbeddingRetriever\n",
       "  - prompt_builder: PromptBuilder\n",
       "  - llm: OpenAIGenerator\n",
       "🛤️ Connections\n",
       "  - text_embedder.embedding -> retriever.query_embedding (List[float])\n",
       "  - retriever.documents -> prompt_builder.documents (List[Document])\n",
       "  - prompt_builder.prompt -> llm.prompt (str)"
      ]
     },
     "execution_count": 11,
     "metadata": {},
     "output_type": "execute_result"
    }
   ],
   "source": [
    "from haystack import Pipeline\n",
    "\n",
    "basic_rag_pipeline = Pipeline()\n",
    "# Add components to your pipeline\n",
    "basic_rag_pipeline.add_component(\"text_embedder\", text_embedder)\n",
    "basic_rag_pipeline.add_component(\"retriever\", retriever)\n",
    "basic_rag_pipeline.add_component(\"prompt_builder\", prompt_builder)\n",
    "basic_rag_pipeline.add_component(\"llm\", generator)\n",
    "\n",
    "# Now, connect the components to each other\n",
    "basic_rag_pipeline.connect(\"text_embedder.embedding\", \"retriever.query_embedding\")\n",
    "basic_rag_pipeline.connect(\"retriever\", \"prompt_builder.documents\")\n",
    "basic_rag_pipeline.connect(\"prompt_builder\", \"llm\")"
   ]
  },
  {
   "cell_type": "code",
   "execution_count": 12,
   "metadata": {},
   "outputs": [
    {
     "name": "stderr",
     "output_type": "stream",
     "text": [
      "Batches: 100%|██████████| 1/1 [00:00<00:00, 108.41it/s]\n"
     ]
    },
    {
     "name": "stdout",
     "output_type": "stream",
     "text": [
      "To get your first SaaS customers, you should follow these actionable strategies:\n",
      "\n",
      "1. **Start Before Coding**: Begin looking for customers and validating your idea before you write any code. Identify any advantages you may have, such as an existing audience or a network of connections.\n",
      "\n",
      "2. **Build an Audience or Network**: If you lack an audience, focus on building a network within entrepreneur communities online, like indiehackers.com or microconfconnect.\n",
      "\n",
      "3. **Create a Landing Page**: Set up a landing page that outlines your product idea and captures emails from interested people. This helps validate interest and allows for customer development.\n",
      "\n",
      "4. **Engage with Your Early List**: Communicate with the people who sign up on your email list about your product's development. Gather feedback on your mockups and assess whether potential customers would be willing to pay for your product.\n",
      "\n",
      "5. **Launch to Your Email List**: Once you’re ready, launch your product to your email list first, providing them special offers or exclusives as motivation to convert to paying customers.\n",
      "\n",
      "6. **Leverage Launch Platforms**: Use platforms like Product Hunt, Hacker News, and Reddit to promote your product. Consider deals on AppSumo or going on a podcast tour to increase visibility.\n",
      "\n",
      "7. **Focus on Experimentation**: Find a marketing approach that resonates with your target audience. Common methods include SEO, content marketing, cold outreach, partnerships, integrations, or pay-per-click ads. Concentrate efforts on one approach for a few months to see what works.\n",
      "\n",
      "8. **Set Appropriate Pricing**: Avoid underpricing your product. Pricing is crucial as it affects your monthly recurring revenue (MRR). Aim for a price point that allows you to grow sustainably.\n",
      "\n",
      "9. **Retain Customers**: Remember that acquiring customers is only part of the process; retaining them is equally important. Focus on building a product that meets customers' needs to minimize churn.\n",
      "\n",
      "By following these strategies, you can increase your chances of acquiring your first customers effectively.\n"
     ]
    }
   ],
   "source": [
    "question = \"How to get my first saas customers?\"\n",
    "\n",
    "response = basic_rag_pipeline.run(\n",
    "    {\"text_embedder\": {\"text\": question}, \"prompt_builder\": {\"question\": question}}\n",
    ")\n",
    "\n",
    "print(response[\"llm\"][\"replies\"][0])"
   ]
  }
 ],
 "metadata": {
  "kernelspec": {
   "display_name": "venv",
   "language": "python",
   "name": "python3"
  },
  "language_info": {
   "codemirror_mode": {
    "name": "ipython",
    "version": 3
   },
   "file_extension": ".py",
   "mimetype": "text/x-python",
   "name": "python",
   "nbconvert_exporter": "python",
   "pygments_lexer": "ipython3",
   "version": "3.10.10"
  }
 },
 "nbformat": 4,
 "nbformat_minor": 2
}
